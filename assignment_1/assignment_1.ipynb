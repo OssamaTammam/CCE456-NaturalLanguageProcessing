{
  "cells": [
    {
      "cell_type": "code",
      "execution_count": 7,
      "metadata": {
        "id": "SS9rq7wh9-JX"
      },
      "outputs": [],
      "source": [
        "!pip install datasets\n"
      ]
    },
    {
      "cell_type": "code",
      "source": [
        "from datasets import load_dataset\n",
        "import numpy as np\n",
        "import pandas as pd"
      ],
      "metadata": {
        "id": "SGd6GunRGpCx"
      },
      "execution_count": 18,
      "outputs": []
    },
    {
      "cell_type": "markdown",
      "source": [
        "## Preparing and pre-processing the data"
      ],
      "metadata": {
        "id": "40OhlxEDHPfZ"
      }
    },
    {
      "cell_type": "code",
      "execution_count": 15,
      "metadata": {
        "id": "6gCTHbnq9-JZ"
      },
      "outputs": [],
      "source": [
        "dataset = load_dataset(\"sst\", \"default\")\n",
        "trainDataset = dataset[\"train\"]\n",
        "validationDataset = dataset[\"validation\"]\n",
        "testDataset = dataset[\"test\"]"
      ]
    },
    {
      "cell_type": "code",
      "source": [
        "def assignSentimentClass(score):\n",
        "  if 0 <= score <= 0.2:\n",
        "    return \"very negative\"\n",
        "  elif 0.2 < score <= 0.4:\n",
        "    return \"negative\"\n",
        "  elif 0.4 < score <= 0.6:\n",
        "    return \"neutral\"\n",
        "  elif 0.6 < score <= 0.8:\n",
        "    return \"positive\"\n",
        "  else:\n",
        "    return \"very positive\""
      ],
      "metadata": {
        "id": "lOTmsCd_LgV-"
      },
      "execution_count": 30,
      "outputs": []
    },
    {
      "cell_type": "code",
      "source": [
        "# make pandas dataframes from the different datasets\n",
        "trainDataFrame = pd.DataFrame(trainDataset)\n",
        "validationDataFrame = pd.DataFrame(validationDataset)\n",
        "testDataFrame = pd.DataFrame(testDataset)"
      ],
      "metadata": {
        "id": "vgx1ISAcMGev"
      },
      "execution_count": 34,
      "outputs": []
    },
    {
      "cell_type": "code",
      "source": [
        "# add a sentiment class column (series) to each row\n",
        "trainDataFrame[\"sentiment_class\"] = trainDataFrame['label'].apply(assignSentimentClass)\n",
        "validationDataFrame[\"sentiment_class\"] = validationDataFrame['label'].apply(assignSentimentClass)\n",
        "testDataFrame[\"sentiment_class\"] = testDataFrame['label'].apply(assignSentimentClass)"
      ],
      "metadata": {
        "id": "hmdkA7xlMJ9V"
      },
      "execution_count": 36,
      "outputs": []
    }
  ],
  "metadata": {
    "kernelspec": {
      "display_name": "Python 3",
      "language": "python",
      "name": "python3"
    },
    "language_info": {
      "codemirror_mode": {
        "name": "ipython",
        "version": 3
      },
      "file_extension": ".py",
      "mimetype": "text/x-python",
      "name": "python",
      "nbconvert_exporter": "python",
      "pygments_lexer": "ipython3",
      "version": "3.10.12"
    },
    "colab": {
      "provenance": []
    }
  },
  "nbformat": 4,
  "nbformat_minor": 0
}